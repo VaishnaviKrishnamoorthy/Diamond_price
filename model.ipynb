{
 "cells": [
  {
   "cell_type": "code",
   "execution_count": 1,
   "metadata": {},
   "outputs": [],
   "source": [
    "import pandas as pd\n",
    "import numpy as np\n",
    "import matplotlib.pyplot as plt"
   ]
  },
  {
   "cell_type": "code",
   "execution_count": 2,
   "metadata": {},
   "outputs": [],
   "source": [
    "df = pd.read_csv(\"C:\\Visual Studio\\diamond\\DiamondsPrices.csv\")"
   ]
  },
  {
   "cell_type": "code",
   "execution_count": 3,
   "metadata": {},
   "outputs": [
    {
     "data": {
      "text/html": [
       "<div>\n",
       "<style scoped>\n",
       "    .dataframe tbody tr th:only-of-type {\n",
       "        vertical-align: middle;\n",
       "    }\n",
       "\n",
       "    .dataframe tbody tr th {\n",
       "        vertical-align: top;\n",
       "    }\n",
       "\n",
       "    .dataframe thead th {\n",
       "        text-align: right;\n",
       "    }\n",
       "</style>\n",
       "<table border=\"1\" class=\"dataframe\">\n",
       "  <thead>\n",
       "    <tr style=\"text-align: right;\">\n",
       "      <th></th>\n",
       "      <th>carat</th>\n",
       "      <th>cut</th>\n",
       "      <th>color</th>\n",
       "      <th>clarity</th>\n",
       "      <th>depth</th>\n",
       "      <th>table</th>\n",
       "      <th>price</th>\n",
       "      <th>x</th>\n",
       "      <th>y</th>\n",
       "      <th>z</th>\n",
       "    </tr>\n",
       "  </thead>\n",
       "  <tbody>\n",
       "    <tr>\n",
       "      <th>0</th>\n",
       "      <td>0.23</td>\n",
       "      <td>Ideal</td>\n",
       "      <td>E</td>\n",
       "      <td>SI2</td>\n",
       "      <td>61.5</td>\n",
       "      <td>55.0</td>\n",
       "      <td>326</td>\n",
       "      <td>3.95</td>\n",
       "      <td>3.98</td>\n",
       "      <td>2.43</td>\n",
       "    </tr>\n",
       "    <tr>\n",
       "      <th>1</th>\n",
       "      <td>0.21</td>\n",
       "      <td>Premium</td>\n",
       "      <td>E</td>\n",
       "      <td>SI1</td>\n",
       "      <td>59.8</td>\n",
       "      <td>61.0</td>\n",
       "      <td>326</td>\n",
       "      <td>3.89</td>\n",
       "      <td>3.84</td>\n",
       "      <td>2.31</td>\n",
       "    </tr>\n",
       "    <tr>\n",
       "      <th>2</th>\n",
       "      <td>0.23</td>\n",
       "      <td>Good</td>\n",
       "      <td>E</td>\n",
       "      <td>VS1</td>\n",
       "      <td>56.9</td>\n",
       "      <td>65.0</td>\n",
       "      <td>327</td>\n",
       "      <td>4.05</td>\n",
       "      <td>4.07</td>\n",
       "      <td>2.31</td>\n",
       "    </tr>\n",
       "    <tr>\n",
       "      <th>3</th>\n",
       "      <td>0.29</td>\n",
       "      <td>Premium</td>\n",
       "      <td>I</td>\n",
       "      <td>VS2</td>\n",
       "      <td>62.4</td>\n",
       "      <td>58.0</td>\n",
       "      <td>334</td>\n",
       "      <td>4.20</td>\n",
       "      <td>4.23</td>\n",
       "      <td>2.63</td>\n",
       "    </tr>\n",
       "    <tr>\n",
       "      <th>4</th>\n",
       "      <td>0.31</td>\n",
       "      <td>Good</td>\n",
       "      <td>J</td>\n",
       "      <td>SI2</td>\n",
       "      <td>63.3</td>\n",
       "      <td>58.0</td>\n",
       "      <td>335</td>\n",
       "      <td>4.34</td>\n",
       "      <td>4.35</td>\n",
       "      <td>2.75</td>\n",
       "    </tr>\n",
       "  </tbody>\n",
       "</table>\n",
       "</div>"
      ],
      "text/plain": [
       "   carat      cut color clarity  depth  table  price     x     y     z\n",
       "0   0.23    Ideal     E     SI2   61.5   55.0    326  3.95  3.98  2.43\n",
       "1   0.21  Premium     E     SI1   59.8   61.0    326  3.89  3.84  2.31\n",
       "2   0.23     Good     E     VS1   56.9   65.0    327  4.05  4.07  2.31\n",
       "3   0.29  Premium     I     VS2   62.4   58.0    334  4.20  4.23  2.63\n",
       "4   0.31     Good     J     SI2   63.3   58.0    335  4.34  4.35  2.75"
      ]
     },
     "execution_count": 3,
     "metadata": {},
     "output_type": "execute_result"
    }
   ],
   "source": [
    "df.head()"
   ]
  },
  {
   "cell_type": "code",
   "execution_count": 4,
   "metadata": {},
   "outputs": [
    {
     "name": "stdout",
     "output_type": "stream",
     "text": [
      "The original dataset has 53940 rows and 10 columns\n"
     ]
    }
   ],
   "source": [
    "print(\"The original dataset has {} rows and {} columns\".format(df.shape[0], df.shape[1]))"
   ]
  },
  {
   "cell_type": "code",
   "execution_count": 5,
   "metadata": {},
   "outputs": [
    {
     "data": {
      "text/plain": [
       "carat      0\n",
       "cut        0\n",
       "color      0\n",
       "clarity    0\n",
       "depth      0\n",
       "table      0\n",
       "price      0\n",
       "x          0\n",
       "y          0\n",
       "z          0\n",
       "dtype: int64"
      ]
     },
     "execution_count": 5,
     "metadata": {},
     "output_type": "execute_result"
    }
   ],
   "source": [
    "df.isnull().sum()\n"
   ]
  },
  {
   "cell_type": "code",
   "execution_count": 6,
   "metadata": {},
   "outputs": [
    {
     "data": {
      "text/plain": [
       "<AxesSubplot:>"
      ]
     },
     "execution_count": 6,
     "metadata": {},
     "output_type": "execute_result"
    },
    {
     "data": {
      "image/png": "[encoded data removed]",
      "text/plain": [
       "<Figure size 640x480 with 1 Axes>"
      ]
     },
     "metadata": {},
     "output_type": "display_data"
    }
   ],
   "source": [
    "import seaborn as sns\n",
    "sns.boxplot(df)"
   ]
  },
  {
   "cell_type": "code",
   "execution_count": 7,
   "metadata": {},
   "outputs": [
    {
     "data": {
      "text/plain": [
       "Index(['carat', 'cut', 'color', 'clarity', 'depth', 'table', 'price', 'x', 'y',\n",
       "       'z'],\n",
       "      dtype='object')"
      ]
     },
     "execution_count": 7,
     "metadata": {},
     "output_type": "execute_result"
    }
   ],
   "source": [
    "df.columns"
   ]
  },
  {
   "cell_type": "code",
   "execution_count": 8,
   "metadata": {},
   "outputs": [
    {
     "data": {
      "text/plain": [
       "carat      float64\n",
       "cut         object\n",
       "color       object\n",
       "clarity     object\n",
       "depth      float64\n",
       "table      float64\n",
       "price        int64\n",
       "x          float64\n",
       "y          float64\n",
       "z          float64\n",
       "dtype: object"
      ]
     },
     "execution_count": 8,
     "metadata": {},
     "output_type": "execute_result"
    }
   ],
   "source": [
    "df.dtypes"
   ]
  },
  {
   "cell_type": "code",
   "execution_count": 9,
   "metadata": {},
   "outputs": [
    {
     "data": {
      "text/plain": [
       "G    11292\n",
       "E     9797\n",
       "F     9542\n",
       "H     8304\n",
       "D     6775\n",
       "I     5422\n",
       "J     2808\n",
       "Name: color, dtype: int64"
      ]
     },
     "execution_count": 9,
     "metadata": {},
     "output_type": "execute_result"
    }
   ],
   "source": [
    "df['color'].value_counts()"
   ]
  },
  {
   "cell_type": "code",
   "execution_count": 10,
   "metadata": {},
   "outputs": [
    {
     "data": {
      "text/plain": [
       "Ideal        21551\n",
       "Premium      13791\n",
       "Very Good    12082\n",
       "Good          4906\n",
       "Fair          1610\n",
       "Name: cut, dtype: int64"
      ]
     },
     "execution_count": 10,
     "metadata": {},
     "output_type": "execute_result"
    }
   ],
   "source": [
    "df['cut'].value_counts()"
   ]
  },
  {
   "cell_type": "code",
   "execution_count": 11,
   "metadata": {},
   "outputs": [
    {
     "data": {
      "text/plain": [
       "SI1     13065\n",
       "VS2     12258\n",
       "SI2      9194\n",
       "VS1      8171\n",
       "VVS2     5066\n",
       "VVS1     3655\n",
       "IF       1790\n",
       "I1        741\n",
       "Name: clarity, dtype: int64"
      ]
     },
     "execution_count": 11,
     "metadata": {},
     "output_type": "execute_result"
    }
   ],
   "source": [
    "df['clarity'].value_counts()"
   ]
  },
  {
   "cell_type": "code",
   "execution_count": 12,
   "metadata": {},
   "outputs": [],
   "source": [
    "df['color'] = df['color'].map({'G':0,'E':1,'F':2,'H':3,'D':4,'I':5,'J':6})\n",
    "df['cut'] = df['cut'].map({'Ideal':0,'Premium':1,'Very Good':2,'Good':3,'Fair':4})\n",
    "df['clarity'] = df['clarity'].map({'SI1':0,'VS2':1,'SI2':2,'VS1':3,'VVS2':4,'VVS1':5,'IF':6,'I1':7})"
   ]
  },
  {
   "cell_type": "code",
   "execution_count": 13,
   "metadata": {},
   "outputs": [],
   "source": [
    "X = df.drop(columns = 'price').values\n",
    "y = df['price'].values"
   ]
  },
  {
   "cell_type": "code",
   "execution_count": 14,
   "metadata": {},
   "outputs": [],
   "source": [
    "from sklearn.model_selection import train_test_split\n",
    "X_train, X_test, y_train, y_test = train_test_split(X, y, test_size=0.3, random_state=0)"
   ]
  },
  {
   "cell_type": "code",
   "execution_count": 15,
   "metadata": {},
   "outputs": [],
   "source": [
    "from sklearn.preprocessing import StandardScaler  \n",
    "scaler = StandardScaler() \n",
    "scaler.fit(X_train,y_train) \n",
    "X_train_scaled = scaler.transform(X_train) \n",
    "X_test_scaled = scaler.transform(X_test)"
   ]
  },
  {
   "cell_type": "code",
   "execution_count": 16,
   "metadata": {},
   "outputs": [
    {
     "data": {
      "text/plain": [
       "LinearRegression()"
      ]
     },
     "execution_count": 16,
     "metadata": {},
     "output_type": "execute_result"
    }
   ],
   "source": [
    "from sklearn.linear_model import LinearRegression\n",
    "regressor = LinearRegression()\n",
    "regressor.fit(X_train_scaled, y_train)"
   ]
  },
  {
   "cell_type": "code",
   "execution_count": 17,
   "metadata": {},
   "outputs": [
    {
     "name": "stdout",
     "output_type": "stream",
     "text": [
      "R2 Value: 0.8715466744920118\n"
     ]
    }
   ],
   "source": [
    "from sklearn.metrics import  r2_score\n",
    "y_pred = regressor.predict(X_test_scaled)\n",
    "rsquared = r2_score(y_test,y_pred)\n",
    "print(\"R2 Value: {}\".format(rsquared))"
   ]
  },
  {
   "cell_type": "code",
   "execution_count": 18,
   "metadata": {},
   "outputs": [
    {
     "name": "stdout",
     "output_type": "stream",
     "text": [
      "K value  :  1 train_score; 0.999990438981492  score :  0.9391938523165002\n",
      "K value  :  2 train_score; 0.9854105269200321  score :  0.9493987078519236\n",
      "K value  :  3 train_score; 0.9781758061184471  score :  0.9529524173198978\n",
      "K value  :  4 train_score; 0.9745648137649516  score :  0.9538815790987185\n",
      "K value  :  5 train_score; 0.9717124215599382  score :  0.9538323124890636\n",
      "K value  :  6 train_score; 0.9689100712332567  score :  0.9540239460834407\n",
      "K value  :  7 train_score; 0.9670434196774478  score :  0.9537167639382564\n",
      "K value  :  8 train_score; 0.9654977170000243  score :  0.95322742761823\n",
      "K value  :  9 train_score; 0.9640410846986122  score :  0.9524189023450951\n",
      "K value  :  10 train_score; 0.9625111826122354  score :  0.9518178711719031\n",
      "K value  :  20 train_score; 0.9536463737557653  score :  0.9464773169652695\n",
      "K value  :  50 train_score; 0.9402176131474882  score :  0.9357407780408995\n"
     ]
    }
   ],
   "source": [
    "from sklearn.neighbors import KNeighborsClassifier, KNeighborsRegressor\n",
    "from sklearn.linear_model import LogisticRegression\n",
    "from mlxtend.plotting import plot_decision_regions \n",
    "from sklearn.model_selection import cross_val_score \n",
    "for i in [1,2,3,4,5,6,7,8,9,10,20,50]: \n",
    "  knn = KNeighborsRegressor(i) \n",
    "  knn.fit(X_train_scaled,y_train) \n",
    "  print(\"K value  : \" , i,\"train_score;\",knn.score(X_train_scaled,y_train), \" score : \", np.mean(cross_val_score(knn, X_train_scaled, y_train, cv=10)))"
   ]
  },
  {
   "cell_type": "code",
   "execution_count": 19,
   "metadata": {},
   "outputs": [],
   "source": [
    "from sklearn.neighbors import KNeighborsRegressor\n",
    "knn=KNeighborsRegressor(6)\n",
    "knn.fit(X_train_scaled,y_train)\n",
    "y_pred = knn.score(X_test_scaled,y_test)"
   ]
  },
  {
   "cell_type": "code",
   "execution_count": 20,
   "metadata": {},
   "outputs": [
    {
     "name": "stdout",
     "output_type": "stream",
     "text": [
      "R2 Value: 0.9523583863064852\n"
     ]
    }
   ],
   "source": [
    "from sklearn.metrics import  r2_score\n",
    "y_pred = knn.predict(X_test_scaled)\n",
    "rsquared = r2_score(y_test,y_pred)\n",
    "print(\"R2 Value: {}\".format(rsquared))"
   ]
  },
  {
   "cell_type": "code",
   "execution_count": 21,
   "metadata": {},
   "outputs": [
    {
     "name": "stdout",
     "output_type": "stream",
     "text": [
      "depth : 1 train_R2 : 0.6080457898785773 val scaore : 0.6080526491465991\n",
      "depth : 2 train_R2 : 0.8266083891324901 val scaore : 0.826394444479828\n",
      "depth : 3 train_R2 : 0.8805749587666414 val scaore : 0.8798905598873947\n",
      "depth : 4 train_R2 : 0.9082999577691858 val scaore : 0.907183607147175\n",
      "depth : 5 train_R2 : 0.9250448559623525 val scaore : 0.9237776729770252\n",
      "depth : 6 train_R2 : 0.9398655677871612 val scaore : 0.937909940662194\n",
      "depth : 7 train_R2 : 0.9537057650587173 val scaore : 0.9505060691964629\n",
      "depth : 8 train_R2 : 0.9623244656562014 val scaore : 0.9577394546547362\n",
      "depth : 9 train_R2 : 0.9710276379181028 val scaore : 0.9641918874555697\n",
      "depth : 10 train_R2 : 0.9774474734912247 val scaore : 0.9691932344659767\n",
      "depth : 20 train_R2 : 0.9991919414569145 val scaore : 0.9644175191103429\n",
      "depth : 40 train_R2 : 0.99999522968039 val scaore : 0.9636694274119728\n",
      "depth : 60 train_R2 : 0.99999522968039 val scaore : 0.9639424276502819\n"
     ]
    }
   ],
   "source": [
    "from sklearn.model_selection import cross_val_score\n",
    "from sklearn.metrics import make_scorer\n",
    "from sklearn.tree import DecisionTreeRegressor\n",
    "import numpy as np\n",
    "from sklearn.metrics import r2_score\n",
    "for depth in [1,2,3,4,5,6,7,8,9,10,20,40,60]:\n",
    "  dt = DecisionTreeRegressor(max_depth=depth) \n",
    "  dt.fit(X_train, y_train) \n",
    "  trainAccuracy = r2_score(y_train, dt.predict(X_train)) \n",
    "  dt = DecisionTreeRegressor(max_depth=depth) \n",
    "  valAccuracy = cross_val_score(dt, X_train, y_train, cv=10, scoring = make_scorer(r2_score)) \n",
    "  print(\"depth :\",depth, \"train_R2 :\",trainAccuracy, \"val scaore :\" ,np.mean(valAccuracy))"
   ]
  },
  {
   "cell_type": "code",
   "execution_count": 22,
   "metadata": {},
   "outputs": [
    {
     "data": {
      "text/plain": [
       "DecisionTreeRegressor(max_depth=10)"
      ]
     },
     "execution_count": 22,
     "metadata": {},
     "output_type": "execute_result"
    }
   ],
   "source": [
    "from sklearn.metrics import accuracy_score, roc_auc_score, plot_roc_curve\n",
    "from sklearn.model_selection import cross_val_score\n",
    "from sklearn.tree import DecisionTreeClassifier\n",
    "from sklearn.tree import DecisionTreeRegressor\n",
    "import numpy as np\n",
    "from sklearn.tree import DecisionTreeRegressor\n",
    "dt = DecisionTreeRegressor(max_depth = 10)\n",
    "dt.fit(X_train, y_train)"
   ]
  },
  {
   "cell_type": "code",
   "execution_count": 23,
   "metadata": {},
   "outputs": [
    {
     "name": "stdout",
     "output_type": "stream",
     "text": [
      "R2 Value: 0.9691684998964987\n"
     ]
    }
   ],
   "source": [
    "from sklearn.metrics import  r2_score\n",
    "y_pred = dt.predict(X_test)\n",
    "rsquared = r2_score(y_test,y_pred)\n",
    "print(\"R2 Value: {}\".format(rsquared))"
   ]
  },
  {
   "cell_type": "code",
   "execution_count": 24,
   "metadata": {},
   "outputs": [
    {
     "data": {
      "text/plain": [
       "(53940, 9)"
      ]
     },
     "execution_count": 24,
     "metadata": {},
     "output_type": "execute_result"
    }
   ],
   "source": [
    "X.shape"
   ]
  },
  {
   "cell_type": "code",
   "execution_count": 25,
   "metadata": {},
   "outputs": [],
   "source": [
    "from sklearn.ensemble import RandomForestRegressor\n",
    "from sklearn.metrics import r2_score\n",
    "rf = RandomForestRegressor(n_estimators= 100, max_depth = 3, max_features='sqrt')\n",
    "rf.fit(X_train_scaled, y_train)\n",
    "y_pred = rf.predict(X_test_scaled)"
   ]
  },
  {
   "cell_type": "code",
   "execution_count": 26,
   "metadata": {},
   "outputs": [
    {
     "name": "stdout",
     "output_type": "stream",
     "text": [
      "R2 Value: 0.8860096651010657\n"
     ]
    }
   ],
   "source": [
    "from sklearn.metrics import  r2_score\n",
    "y_pred = rf.predict(X_test_scaled)\n",
    "rsquared = r2_score(y_test,y_pred)\n",
    "print(\"R2 Value: {}\".format(rsquared))"
   ]
  },
  {
   "cell_type": "code",
   "execution_count": 27,
   "metadata": {},
   "outputs": [],
   "source": [
    "import pandas as pd \n",
    "from pandas import MultiIndex, Int16Dtype\n",
    "import xgboost as xgb"
   ]
  },
  {
   "cell_type": "code",
   "execution_count": 28,
   "metadata": {},
   "outputs": [
    {
     "name": "stdout",
     "output_type": "stream",
     "text": [
      "Learning rate :  0.01  Train score :  0.6944195751060347  Cross-Val score :  0.6925655916844664\n",
      "Learning rate :  0.02  Train score :  0.9322266357681483  Cross-Val score :  0.9299328508790132\n",
      "Learning rate :  0.03  Train score :  0.9702623222941341  Cross-Val score :  0.9674269581054757\n",
      "Learning rate :  0.04  Train score :  0.9784549989857092  Cross-Val score :  0.9753030872791276\n",
      "Learning rate :  0.05  Train score :  0.9812931402622113  Cross-Val score :  0.9778442478291625\n",
      "Learning rate :  0.06  Train score :  0.9830124709782427  Cross-Val score :  0.9789785932764458\n",
      "Learning rate :  0.07  Train score :  0.9839184995378959  Cross-Val score :  0.979470473465021\n",
      "Learning rate :  0.08  Train score :  0.9849366032938746  Cross-Val score :  0.9798715364851969\n",
      "Learning rate :  0.09  Train score :  0.9856826002696986  Cross-Val score :  0.9801461825889508\n",
      "Learning rate :  0.1  Train score :  0.9859909379808618  Cross-Val score :  0.9802804416868314\n",
      "Learning rate :  0.11  Train score :  0.9866322068578343  Cross-Val score :  0.9803290218593197\n",
      "Learning rate :  0.12  Train score :  0.9869418705294234  Cross-Val score :  0.9803771133749354\n",
      "Learning rate :  0.13  Train score :  0.9870770583775499  Cross-Val score :  0.9805488467027222\n",
      "Learning rate :  0.14  Train score :  0.9876310748388145  Cross-Val score :  0.9805117144944319\n",
      "Learning rate :  0.15  Train score :  0.987649518452237  Cross-Val score :  0.9805616223706239\n",
      "Learning rate :  0.2  Train score :  0.9892283928639849  Cross-Val score :  0.9804935580880452\n",
      "Learning rate :  0.5  Train score :  0.9927942715377148  Cross-Val score :  0.9778941429920224\n",
      "Learning rate :  0.7  Train score :  0.9938512252539436  Cross-Val score :  0.9760132726058182\n",
      "Learning rate :  1  Train score :  0.9939703565767222  Cross-Val score :  0.9687032634079233\n"
     ]
    }
   ],
   "source": [
    "from sklearn.model_selection import cross_val_score\n",
    "import numpy as np\n",
    "from xgboost import XGBRegressor\n",
    "for lr in [0.01,0.02,0.03,0.04,0.05,0.06,0.07,0.08,0.09,0.1,0.11,0.12,0.13,0.14,0.15,0.2,0.5,0.7,1]:\n",
    "  XGBRegressor = xgb.XGBRegressor(learning_rate = lr, n_estimators=100, verbosity = 0) \n",
    "  XGBRegressor.fit(X_train,y_train) \n",
    "  XGBRegressor.score(X_test, y_test) \n",
    "  print(\"Learning rate : \", lr, \" Train score : \", XGBRegressor.score(X_train,y_train), \" Cross-Val score : \", np.mean(cross_val_score(XGBRegressor, X_train, y_train, cv=10)))"
   ]
  },
  {
   "cell_type": "code",
   "execution_count": 29,
   "metadata": {},
   "outputs": [
    {
     "data": {
      "text/plain": [
       "XGBRegressor(base_score=None, booster=None, callbacks=None,\n",
       "             colsample_bylevel=None, colsample_bynode=None,\n",
       "             colsample_bytree=None, early_stopping_rounds=None,\n",
       "             enable_categorical=False, eval_metric=None, feature_types=None,\n",
       "             gamma=None, gpu_id=None, grow_policy=None, importance_type=None,\n",
       "             interaction_constraints=None, learning_rate=0.15, max_bin=None,\n",
       "             max_cat_threshold=None, max_cat_to_onehot=None,\n",
       "             max_delta_step=None, max_depth=None, max_leaves=None,\n",
       "             min_child_weight=None, missing=nan, monotone_constraints=None,\n",
       "             n_estimators=100, n_jobs=None, num_parallel_tree=None,\n",
       "             predictor=None, random_state=None, ...)"
      ]
     },
     "execution_count": 29,
     "metadata": {},
     "output_type": "execute_result"
    }
   ],
   "source": [
    "XGBRegressor = xgb.XGBRegressor(learning_rate = 0.15, n_estimators=100)\n",
    "XGBRegressor.fit(X_train,y_train) "
   ]
  },
  {
   "cell_type": "code",
   "execution_count": 30,
   "metadata": {},
   "outputs": [
    {
     "name": "stdout",
     "output_type": "stream",
     "text": [
      "R2 Value: 0.9802167529799526\n"
     ]
    }
   ],
   "source": [
    "from sklearn.metrics import  r2_score\n",
    "y_pred = XGBRegressor.predict(X_test)\n",
    "rsquared = r2_score(y_test,y_pred)\n",
    "print(\"R2 Value: {}\".format(rsquared))"
   ]
  },
  {
   "cell_type": "code",
   "execution_count": 32,
   "metadata": {},
   "outputs": [
    {
     "name": "stdout",
     "output_type": "stream",
     "text": [
      "R2 Value for Linear Regression: 0.8715466744920118\n",
      "R2 Value for KNN Regression: 0.9523583863064852\n",
      "R2 Value for DecisionTreeRegressor: 0.9691684998964987\n",
      "R2 Value for RandomForestRegressor: 0.8860096651010657\n",
      "R2 Value for XGBooster: 0.9802167529799526\n"
     ]
    }
   ],
   "source": [
    "from sklearn.metrics import  r2_score\n",
    "print(\"R2 Value for Linear Regression: {}\".format(r2_score(y_test,regressor.predict(X_test_scaled))))\n",
    "print(\"R2 Value for KNN Regression: {}\".format(r2_score(y_test,knn.predict(X_test_scaled))))\n",
    "print(\"R2 Value for DecisionTreeRegressor: {}\".format(r2_score(y_test,dt.predict(X_test))))\n",
    "print(\"R2 Value for RandomForestRegressor: {}\".format(r2_score(y_test,rf.predict(X_test_scaled))))\n",
    "print(\"R2 Value for XGBooster: {}\".format(r2_score(y_test,XGBRegressor.predict(X_test))))"
   ]
  },
  {
   "cell_type": "code",
   "execution_count": 33,
   "metadata": {},
   "outputs": [],
   "source": [
    "import pickle"
   ]
  },
  {
   "cell_type": "code",
   "execution_count": 34,
   "metadata": {},
   "outputs": [],
   "source": [
    "XGBRegressor.save_model('booster')"
   ]
  },
  {
   "cell_type": "code",
   "execution_count": 35,
   "metadata": {},
   "outputs": [],
   "source": [
    "XGBRegressor.load_model('booster')"
   ]
  },
  {
   "cell_type": "code",
   "execution_count": 36,
   "metadata": {},
   "outputs": [
    {
     "name": "stdout",
     "output_type": "stream",
     "text": [
      "[341.6692]\n"
     ]
    }
   ],
   "source": [
    "input_data = (0.23,0,1,2,61.5,55.0,3.95,3.98,2.43)\n",
    "\n",
    "# changing the input_data to numpy array\n",
    "input_data_as_numpy_array = np.asarray(input_data)\n",
    "\n",
    "# reshape the array as we are predicting for one instance\n",
    "input_data_reshaped = input_data_as_numpy_array.reshape(1,-1)\n",
    "\n",
    "prediction = XGBRegressor.predict(input_data_reshaped)\n",
    "print(prediction)"
   ]
  },
  {
   "cell_type": "code",
   "execution_count": 37,
   "metadata": {},
   "outputs": [
    {
     "name": "stdout",
     "output_type": "stream",
     "text": [
      "[[ 0.23  0.    1.    2.   61.5  55.    3.95  3.98  2.43]]\n"
     ]
    }
   ],
   "source": [
    "print(input_data_reshaped)"
   ]
  },
  {
   "cell_type": "code",
   "execution_count": 38,
   "metadata": {},
   "outputs": [],
   "source": [
    "Pkl_Filename = \"model_tree.pkl\"  \n",
    "\n",
    "import pickle\n",
    "with open(Pkl_Filename, 'wb') as file:  \n",
    "    pickle.dump(XGBRegressor, file)"
   ]
  }
 ],
 "metadata": {
  "kernelspec": {
   "display_name": "base",
   "language": "python",
   "name": "python3"
  },
  "language_info": {
   "codemirror_mode": {
    "name": "ipython",
    "version": 3
   },
   "file_extension": ".py",
   "mimetype": "text/x-python",
   "name": "python",
   "nbconvert_exporter": "python",
   "pygments_lexer": "ipython3",
   "version": "3.9.15"
  },
  "orig_nbformat": 4,
  "vscode": {
   "interpreter": {
    "hash": "8e488a14b9a2fa3e242edeb4f698eb6a19198fa902215ebe7df2f983cb5037e8"
   }
  }
 },
 "nbformat": 4,
 "nbformat_minor": 2
}
